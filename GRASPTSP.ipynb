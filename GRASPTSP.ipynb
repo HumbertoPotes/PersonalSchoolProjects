{
 "cells": [
  {
   "cell_type": "code",
   "execution_count": 16,
   "metadata": {},
   "outputs": [],
   "source": [
    "import numpy as np\n",
    "import pandas as pd\n",
    "import random as rd\n",
    "import operator\n",
    "from random import randint\n",
    "import matplotlib.pyplot as plt\n"
   ]
  },
  {
   "cell_type": "code",
   "execution_count": 17,
   "metadata": {},
   "outputs": [],
   "source": [
    "file=open(\"rc_201.1.txt\",\"r\")#importar el documento de txt debe de estar guardado en la mmisma carpeta que el archivo de python\n",
    "f=file.read()#esto es para abrir el documento como tal, hay tres opciones read() que lo abre tal cual, readlines() que lo abre separado por salto de página\n",
    "df=f.split()\n",
    "size=int(df[0])\n",
    "sqrsize=size*size\n",
    "df=df[1:sqrsize+1]\n",
    "\n",
    "def makematrix(lst,size):\n",
    "    '''This function inputs a list of n^2 elements and the size n and divides it into n columns and n rows, creating a nxn\n",
    "       matrix which is returned'''\n",
    "    matrix=[]\n",
    "    for i in range (0,size):\n",
    "        row=[]\n",
    "        for x in range(0,size):\n",
    "            x+=i*size\n",
    "            row.append(lst[x])\n",
    "            #print(row)\n",
    "        matrix.append(row)\n",
    "    return matrix\n",
    "matrix=makematrix(df,size)"
   ]
  },
  {
   "cell_type": "code",
   "execution_count": 24,
   "metadata": {},
   "outputs": [
    {
     "name": "stdout",
     "output_type": "stream",
     "text": [
      "The order of cities visited is:  [0, 14, 15, 18, 12, 3, 2, 10, 1, 17, 11, 19, 13, 9, 7, 5, 6, 8, 4, 16]\n",
      "The total of distance covered is:  356.3\n"
     ]
    }
   ],
   "source": [
    "visited=[]\n",
    "distance=0.0\n",
    "init=0\n",
    "for i in range(0,size):\n",
    "    minimum=100\n",
    "    if init not in visited:\n",
    "        visited.append(init)\n",
    "        if len(visited)<size:\n",
    "            for x in matrix[init]:\n",
    "                temporal_1st=matrix[init].copy()\n",
    "                x=float(x)\n",
    "                if x!=0 and x!=10 and x<minimum and temporal_1st.index(str(x)) not in visited:\n",
    "                    minimum=x\n",
    "            distance+=minimum\n",
    "            init=temporal_1st.index(str(minimum))\n",
    "print(\"The order of cities visited is: \", visited)\n",
    "print(\"The total of distance covered is: \", distance)\n",
    "iterations=20"
   ]
  }
 ],
 "metadata": {
  "kernelspec": {
   "display_name": "Python 3",
   "language": "python",
   "name": "python3"
  },
  "language_info": {
   "codemirror_mode": {
    "name": "ipython",
    "version": 3
   },
   "file_extension": ".py",
   "mimetype": "text/x-python",
   "name": "python",
   "nbconvert_exporter": "python",
   "pygments_lexer": "ipython3",
   "version": "3.7.3"
  }
 },
 "nbformat": 4,
 "nbformat_minor": 2
}
